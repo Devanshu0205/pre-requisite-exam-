{
  "nbformat": 4,
  "nbformat_minor": 0,
  "metadata": {
    "colab": {
      "provenance": []
    },
    "kernelspec": {
      "name": "python3",
      "display_name": "Python 3"
    },
    "language_info": {
      "name": "python"
    }
  },
  "cells": [
    {
      "cell_type": "markdown",
      "source": [
        "q1) We have two matrices:\n",
        "\n",
        "Matrix A: dimensions (n, k)\n",
        "Matrix B: dimensions (k, m)\n",
        "now we know for multiplication each row of one matrix is multiplied by next matrix column correspondingly. thus one row of first matrix is multiplied by all columns which will involve (k*m) multiplications. then for total n rows of first we will get (K*n*m) multiplications.\n",
        "\n",
        "now for addition calculation we do (k-1) additions after multiplying each element from one row to other column as there are k elements. now since there are m columns and n rows thus total (n*m*(k-1)) additions."
      ],
      "metadata": {
        "id": "I_K6W-IYz6JD"
      }
    },
    {
      "cell_type": "markdown",
      "source": [
        "q2)matrix multiplication"
      ],
      "metadata": {
        "id": "sODoTk4hwgIO"
      }
    },
    {
      "cell_type": "code",
      "source": [
        "#using list of lists\n",
        "def mat(r, c):\n",
        "    ans = np.zeros((r, c), dtype=int)\n",
        "    for i in range(r):\n",
        "     for j in range(c):\n",
        "       ans[i][j] = int(input())\n",
        "    return ans\n",
        "row_a=int(input())\n",
        "col_a=int(input())\n",
        "row_b=int(input())\n",
        "col_b=int(input())\n",
        "a=mat(row_a,col_a)\n",
        "b=mat(row_b,col_b)\n",
        "def mul(a,b):\n",
        "  matrix = [[0] * (len(b[0])) for k in range(len(a))]\n",
        "  for i in range(len(a)):\n",
        "      for j in range(len(b[0])):\n",
        "        for k in range(len(b)):\n",
        "          matrix[i][j] += a[i][k] * b[k][j]\n",
        "  print (matrix)\n",
        "s1=time.time()\n",
        "mul(a,b)\n",
        "e1=time.time()\n",
        "print(e1-s1)\n",
        "\n",
        "\n"
      ],
      "metadata": {
        "colab": {
          "base_uri": "https://localhost:8080/"
        },
        "id": "WWK_Mzse4ETJ",
        "outputId": "441a667f-ad08-4dcc-b282-b03bae12da0a"
      },
      "execution_count": null,
      "outputs": [
        {
          "output_type": "stream",
          "name": "stdout",
          "text": [
            "2\n",
            "2\n",
            "2\n",
            "2\n",
            "1\n",
            "2\n",
            "3\n",
            "4\n",
            "5\n",
            "6\n",
            "7\n",
            "8\n",
            "[[19, 22], [43, 50]]\n",
            "0.0013048648834228516\n"
          ]
        }
      ]
    },
    {
      "cell_type": "code",
      "source": [
        "\n",
        "#using numpy\n",
        "import numpy as np\n",
        "import time\n",
        "def mat(r, c):\n",
        "    ans = np.zeros((r, c), dtype=int)\n",
        "    for i in range(r):\n",
        "     for j in range(c):\n",
        "       ans[i][j] = int(input())\n",
        "    return ans\n",
        "row_a=int(input())\n",
        "col_a=int(input())\n",
        "row_b=int(input())\n",
        "col_b=int(input())\n",
        "a=mat(row_a,col_a)\n",
        "b=mat(row_b,col_b)\n",
        "def mul(a,b):\n",
        "\n",
        "\n",
        " matrix=np.dot(a,b)\n",
        " print(matrix)\n",
        "s2=time.time()\n",
        "mul(a,b)\n",
        "e2=time.time()\n",
        "print(e2-s2)\n"
      ],
      "metadata": {
        "colab": {
          "base_uri": "https://localhost:8080/"
        },
        "id": "VFUPMkuO4Sno",
        "outputId": "ad09fb24-0a9b-46c9-b93d-31005171991c"
      },
      "execution_count": null,
      "outputs": [
        {
          "output_type": "stream",
          "name": "stdout",
          "text": [
            "2\n",
            "2\n",
            "2\n",
            "2\n",
            "1\n",
            "2\n",
            "3\n",
            "4\n",
            "5\n",
            "6\n",
            "7\n",
            "8\n",
            "[[19 22]\n",
            " [43 50]]\n",
            "0.0011553764343261719\n"
          ]
        }
      ]
    },
    {
      "cell_type": "markdown",
      "source": [
        "here if we compare time complaxities of list of list method it will come out to be o(n^3) while using numpy the time complaxity is same o(n^3) but numpy uses more optimised code and it has more efficient memory management code thus it is generally faster as we can see list of list used 0.0013 compared to numpy's 0.0011"
      ],
      "metadata": {
        "id": "6iARe4IChtG0"
      }
    },
    {
      "cell_type": "markdown",
      "source": [
        "q4) gradient of function with respect to x and y is partial derivative of the function with respect to x and y.\n",
        "\n",
        "with respect to x= ∂f/∂x = 2xy + y^3cos(x)\n",
        "with respect to y= ∂f/∂y = x^2 + 3y^2sin(x)"
      ],
      "metadata": {
        "id": "awlroK2jqxOC"
      }
    },
    {
      "cell_type": "markdown",
      "source": [
        "q5) now using jax and numpy we can compare the above results"
      ],
      "metadata": {
        "id": "NPyGfYderKh5"
      }
    },
    {
      "cell_type": "code",
      "source": [
        "import jax\n",
        "import jax.numpy as jnp\n",
        "import numpy as np\n",
        "\n",
        "def f(x, y):\n",
        "  return x**2 * y + y**3 * jnp.sin(x)\n",
        "\n",
        "grad_f = jax.grad(f, argnums=(0, 1))\n",
        "x, y = np.random.randn(2)\n",
        "\n",
        "manual_grad = 2 * x * y + y**3 * jnp.cos(x), x**2 + 3 * y**2 * jnp.sin(x)\n",
        "jax_grad = grad_f(x, y)\n",
        "\n",
        "print(\"manual gradient:\", manual_grad)\n",
        "print(\"JAX gradient:\", jax_grad)"
      ],
      "metadata": {
        "colab": {
          "base_uri": "https://localhost:8080/"
        },
        "id": "8UhNNLR0qwJI",
        "outputId": "b0059136-5485-4859-8a5c-d750cd192d70"
      },
      "execution_count": null,
      "outputs": [
        {
          "output_type": "stream",
          "name": "stdout",
          "text": [
            "manual gradient: (Array(0.17039862, dtype=float32), Array(0.88108027, dtype=float32))\n",
            "JAX gradient: (Array(0.17039862, dtype=float32), Array(0.8810803, dtype=float32))\n"
          ]
        }
      ]
    },
    {
      "cell_type": "markdown",
      "source": [
        "q6)now we can confirm the results with sympy as:"
      ],
      "metadata": {
        "id": "uzlU2FiAtkpP"
      }
    },
    {
      "cell_type": "code",
      "source": [
        "import sympy as sp\n",
        "x, y = sp.symbols('x y')\n",
        "f = x**2 * y + y**3 * sp.sin(x)\n",
        "print(sp.Matrix([f]).jacobian([x, y]))\n"
      ],
      "metadata": {
        "colab": {
          "base_uri": "https://localhost:8080/"
        },
        "id": "unFHXugduEI5",
        "outputId": "6b1bb86f-0b5f-48ec-ffb2-ea9872796851"
      },
      "execution_count": null,
      "outputs": [
        {
          "output_type": "stream",
          "name": "stdout",
          "text": [
            "Matrix([[2*x*y + y**3*cos(x), x**2 + 3*y**2*sin(x)]])\n"
          ]
        }
      ]
    },
    {
      "cell_type": "markdown",
      "source": [
        "q7) rrecording data in nested dictionary"
      ],
      "metadata": {
        "id": "sA840nzuyFsO"
      }
    },
    {
      "cell_type": "code",
      "source": [
        "data = {\n",
        "    2022: {\n",
        "        'Branch 1': {\n",
        "            1: {'Name': 'Aman', 'Marks': {'Maths': 98, 'English': 75}},\n",
        "            2: {'Name': 'Ismail', 'Marks': {'Maths': 85, 'English': 65}}\n",
        "        },\n",
        "        'Branch 2': {\n",
        "            1: {'Name': 'Chinmay', 'Marks': {'Maths': 95, 'English': 78}},\n",
        "            2: {'Name': 'Joker', 'Marks': {'Maths': 88, 'English': 80}}\n",
        "        }\n",
        "    },\n",
        "    2023: {\n",
        "        'Branch 1': {\n",
        "            1: {'Name': 'Bob', 'Marks': {'Maths': 96, 'English': 89}},\n",
        "            2: {'Name': 'Kajod', 'Marks': {'Maths': 82, 'English': 84}}\n",
        "        },\n",
        "        'Branch 2': {\n",
        "            1: {'Name': 'Dij', 'Marks': {'Maths': 90, 'English': 91}},\n",
        "            2: {'Name': 'Laja', 'Marks': {'Maths': 87, 'English': 88}}\n",
        "        }\n",
        "    },\n",
        "    2024: {\n",
        "        'Branch 1': {\n",
        "            1: {'Name': 'G', 'Marks': {'Maths': 92, 'English': 86}},\n",
        "            2: {'Name': 'M', 'Marks': {'Maths': 81, 'English': 82}}\n",
        "        },\n",
        "        'Branch 2': {\n",
        "            1: {'Name': 'E', 'Marks': {'Maths': 93, 'English': 84}},\n",
        "            2: {'Name': 'N', 'Marks': {'Maths': 89, 'English': 79}}\n",
        "        }\n",
        "    },\n",
        "    2025: {\n",
        "        'Branch 1': {\n",
        "            1: {'Name': 'F', 'Marks': {'Maths': 92, 'English': 90}},\n",
        "            2: {'Name': 'O', 'Marks': {'Maths': 88, 'English': 85}}\n",
        "        },\n",
        "        'Branch 2': {\n",
        "            1: {'Name': 'H', 'Marks': {'Maths': 91, 'English': 88}},\n",
        "            2: {'Name': 'P', 'Marks': {'Maths': 87, 'English': 86}}\n",
        "        }\n",
        "    }\n",
        "}\n",
        "\n",
        "print(data)\n"
      ],
      "metadata": {
        "colab": {
          "base_uri": "https://localhost:8080/"
        },
        "id": "GiQUyigsyEhD",
        "outputId": "7a0ae760-d5ba-4045-ab8d-f68d80b7d91d"
      },
      "execution_count": 3,
      "outputs": [
        {
          "output_type": "stream",
          "name": "stdout",
          "text": [
            "{2022: {'Branch 1': {1: {'Name': 'Aman', 'Marks': {'Maths': 98, 'English': 75}}, 2: {'Name': 'Ismail', 'Marks': {'Maths': 85, 'English': 65}}}, 'Branch 2': {1: {'Name': 'Chinmay', 'Marks': {'Maths': 95, 'English': 78}}, 2: {'Name': 'Joker', 'Marks': {'Maths': 88, 'English': 80}}}}, 2023: {'Branch 1': {1: {'Name': 'Bob', 'Marks': {'Maths': 96, 'English': 89}}, 2: {'Name': 'Kajod', 'Marks': {'Maths': 82, 'English': 84}}}, 'Branch 2': {1: {'Name': 'Dij', 'Marks': {'Maths': 90, 'English': 91}}, 2: {'Name': 'Laja', 'Marks': {'Maths': 87, 'English': 88}}}}, 2024: {'Branch 1': {1: {'Name': 'G', 'Marks': {'Maths': 92, 'English': 86}}, 2: {'Name': 'M', 'Marks': {'Maths': 81, 'English': 82}}}, 'Branch 2': {1: {'Name': 'E', 'Marks': {'Maths': 93, 'English': 84}}, 2: {'Name': 'N', 'Marks': {'Maths': 89, 'English': 79}}}}, 2025: {'Branch 1': {1: {'Name': 'F', 'Marks': {'Maths': 92, 'English': 90}}, 2: {'Name': 'O', 'Marks': {'Maths': 88, 'English': 85}}}, 'Branch 2': {1: {'Name': 'H', 'Marks': {'Maths': 91, 'English': 88}}, 2: {'Name': 'P', 'Marks': {'Maths': 87, 'English': 86}}}}}\n"
          ]
        }
      ]
    },
    {
      "cell_type": "markdown",
      "source": [
        "q9) plotting graphs of matpilotlib library of python of the following functions"
      ],
      "metadata": {
        "id": "jrF5zLXHQRbs"
      }
    },
    {
      "cell_type": "code",
      "source": [
        "import numpy as np\n",
        "import matplotlib.pyplot as plt\n",
        "x=np.arange(0.5,100,0.5)\n",
        "y1=x\n",
        "y2=x**2\n",
        "y3=(x**3)/100\n",
        "y4=np.sin(x)\n",
        "y5=(np.sin(x))/x\n",
        "y6=np.log(x)\n",
        "y7=np.exp(x)\n"
      ],
      "metadata": {
        "id": "GpZuQ1vtQa_q"
      },
      "execution_count": null,
      "outputs": []
    },
    {
      "cell_type": "code",
      "source": [
        "plt.plot(x, y1, label=\"y = x\")\n",
        "plt.plot(x, y2, label=\"y = x^2\")\n",
        "plt.plot(x, y3, label=\"y = x^3 / 100\")\n",
        "plt.plot(x, y4, label=\"y = sin(x)\")\n",
        "plt.plot(x, y5, label=\"y = sin(x) / x\")\n",
        "plt.plot(x, y6, label=\"y = log(x)\")\n",
        "plt.plot(x, y7, label=\"y = e^x\")\n",
        "plt.xlabel(\"x\")\n",
        "plt.ylabel(\"y\")\n",
        "plt.title(\"Functions Plot\")\n",
        "plt.legend()\n",
        "plt.ylim(-5,10)\n",
        "plt.show()"
      ],
      "metadata": {
        "colab": {
          "base_uri": "https://localhost:8080/",
          "height": 472
        },
        "id": "C_KQZLCLX-e2",
        "outputId": "a46359c5-aedc-42f6-af22-abc5eb820e1e"
      },
      "execution_count": null,
      "outputs": [
        {
          "output_type": "display_data",
          "data": {
            "text/plain": [
              "<Figure size 640x480 with 1 Axes>"
            ],
            "image/png": "[encoded data removed]"
          },
          "metadata": {}
        }
      ]
    },
    {
      "cell_type": "markdown",
      "source": [
        "q10) using numpy and pandas"
      ],
      "metadata": {
        "id": "HdXUDh0heRVF"
      }
    },
    {
      "cell_type": "code",
      "source": [
        "import numpy as np\n",
        "import pandas as pd\n",
        "data = np.random.uniform(1, 2, size=(20, 5))\n",
        "df = pd.DataFrame(data, columns=['a', 'b', 'c', 'd', 'e'])\n",
        "\n",
        "column_with_highest_std = df.std().idxmax()\n",
        "print(\"Column with highest standard deviation:\", column_with_highest_std)\n",
        "\n",
        "row_with_lowest_mean = df.mean(axis=1).idxmin()\n",
        "print(\"Row with lowest mean:\", row_with_lowest_mean)\n"
      ],
      "metadata": {
        "colab": {
          "base_uri": "https://localhost:8080/"
        },
        "id": "dsZ8iZzZvc1t",
        "outputId": "6862bc02-79ac-444a-fd92-5158fbd64a1c"
      },
      "execution_count": 1,
      "outputs": [
        {
          "output_type": "stream",
          "name": "stdout",
          "text": [
            "Column with highest standard deviation: e\n",
            "Row with lowest mean: 0\n"
          ]
        }
      ]
    },
    {
      "cell_type": "markdown",
      "source": [
        "q11)"
      ],
      "metadata": {
        "id": "-ihG74LAwATr"
      }
    },
    {
      "cell_type": "code",
      "source": [
        "import numpy as np\n",
        "import pandas as pd\n",
        "\n",
        "random_data = np.random.uniform(1, 2, size=(20, 5))\n",
        "data_frame = pd.DataFrame(random_data, columns=['column_a', 'column_b', 'column_c', 'column_d', 'column_e'])\n",
        "data_frame['total_sum'] = data_frame[['column_a', 'column_b', 'column_c', 'column_d', 'column_e']].sum(axis=1)\n",
        "data_frame['sum_category'] = np.where(data_frame['total_sum'] < 8, 'less_than_8', 'greater_than_8')\n",
        "count = (data_frame['sum_category'] == 'less_than_8').sum()\n",
        "print(\"Number of rows where sum_category is less than 8:\", count)\n",
        "\n",
        "stld8 = data_frame[data_frame['sum_category'] == 'less_than_8']['total_sum'].std()\n",
        "print(\"Standard deviation of total_sum for rows where sum_category is less than 8:\", stld8)\n",
        "\n",
        "stdg8 = data_frame[data_frame['sum_category'] == 'greater_than_8']['total_sum'].std()\n",
        "print(\"Standard deviation of total_sum for rows where sum_category is greater than 8:\", stdg8)\n"
      ],
      "metadata": {
        "colab": {
          "base_uri": "https://localhost:8080/"
        },
        "id": "Y0qx7RrJwdBl",
        "outputId": "85c2fcd9-89c3-4e8f-f9f7-2557f8b8db57"
      },
      "execution_count": 2,
      "outputs": [
        {
          "output_type": "stream",
          "name": "stdout",
          "text": [
            "Number of rows where sum_category is less than 8: 16\n",
            "Standard deviation of total_sum for rows where sum_category is less than 8: 0.36338257593643125\n",
            "Standard deviation of total_sum for rows where sum_category is greater than 8: 0.27378082450849783\n"
          ]
        }
      ]
    },
    {
      "cell_type": "markdown",
      "source": [
        "q12) broadcasting in numpy can be understand by simple example of addition"
      ],
      "metadata": {
        "id": "4hfTxSuAlFNL"
      }
    },
    {
      "cell_type": "code",
      "source": [
        "import numpy as np\n",
        "a=np.array([0,1,2])\n",
        "b=5\n",
        "print(a+b)"
      ],
      "metadata": {
        "colab": {
          "base_uri": "https://localhost:8080/"
        },
        "id": "h6WjKZeCCYIt",
        "outputId": "21af5b70-7816-444d-b5ea-b2028903fae6"
      },
      "execution_count": null,
      "outputs": [
        {
          "output_type": "stream",
          "name": "stdout",
          "text": [
            "[5 6 7]\n"
          ]
        }
      ]
    },
    {
      "cell_type": "markdown",
      "source": [
        "now here we can see that array a is 1d array containing 3 element i.e. [0,1,2] and now when we told to add 5 to array a , numpy stretched or broadcasted the value of b=5 to b=[5,5,5] then it added a=[0,1,2] to b=[5,5,5] to give [5,6,7].\n",
        "this concept of stretching the smaller array to match dimension of larger array for arithmatic operation in numpy is called as numpy broadcasting."
      ],
      "metadata": {
        "id": "VWjmP49CoNc6"
      }
    },
    {
      "cell_type": "markdown",
      "source": [
        "q13) argmin of numpy array"
      ],
      "metadata": {
        "id": "k9EXre8ProTm"
      }
    },
    {
      "cell_type": "code",
      "source": [
        "import numpy as np\n",
        "# using python code for finding minimun number's index\n",
        "def argmin(a):\n",
        "  min=0\n",
        "  for i in range(len(a)):\n",
        "    if (a[i]< a[min]):\n",
        "      min=i\n",
        "  print(min)\n",
        "a=np.array([1,2,3,4,0])\n",
        "print(\"python code: \")\n",
        "argmin(a)\n",
        "\n",
        "#now using argmin of numpy\n",
        "print(\"using numpy's argmin: \")\n",
        "print(np.argmin(a))\n",
        "\n",
        "\n",
        "\n"
      ],
      "metadata": {
        "colab": {
          "base_uri": "https://localhost:8080/"
        },
        "id": "VB6gmVB_rzzZ",
        "outputId": "23d4c6e1-25f5-4e7e-a823-88cfd4fd2df6"
      },
      "execution_count": null,
      "outputs": [
        {
          "output_type": "stream",
          "name": "stdout",
          "text": [
            "python code: \n",
            "4\n",
            "using numpy's argmin: \n",
            "4\n"
          ]
        }
      ]
    }
  ]
}